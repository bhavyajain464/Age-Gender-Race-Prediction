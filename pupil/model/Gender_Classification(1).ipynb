{
  "nbformat": 4,
  "nbformat_minor": 0,
  "metadata": {
    "kernelspec": {
      "name": "python3",
      "display_name": "Python 3",
      "language": "python"
    },
    "language_info": {
      "name": "python",
      "version": "3.7.6",
      "mimetype": "text/x-python",
      "codemirror_mode": {
        "name": "ipython",
        "version": 3
      },
      "pygments_lexer": "ipython3",
      "nbconvert_exporter": "python",
      "file_extension": ".py"
    },
    "colab": {
      "name": "Gender_Classification.ipynb",
      "provenance": []
    },
    "accelerator": "GPU"
  },
  "cells": [
    {
      "cell_type": "code",
      "metadata": {
        "_uuid": "d629ff2d2480ee46fbb7e2d37f6b5fab8052498a",
        "_cell_guid": "79c7e3d0-c299-4dcb-8224-4455121ee9b0",
        "trusted": true,
        "colab": {
          "base_uri": "https://localhost:8080/"
        },
        "id": "Gt73AqRAh1LY",
        "outputId": "8bdc5662-ee14-46d9-cb8e-876c228c3d58"
      },
      "source": [
        "import matplotlib.pyplot as plt\n",
        "import cv2\n",
        "from tqdm import tqdm\n",
        "import numpy as np\n",
        "import pandas as pd \n",
        "import os\n",
        "image_dir = \"/content/UTKFace/\"\n",
        "train_x = []\n",
        "train_y = []\n",
        "\n",
        "filename = []\n",
        "gender=[]\n",
        "race=[]\n",
        "age=[]\n",
        "\n",
        "for file in tqdm(os.listdir(image_dir),position=0,leave=True):\n",
        "#     print(file)\n",
        "#     img = cv2.imread(image_dir+file,0)\n",
        "#     img = cv2.resize(img,(100,100))\n",
        "#     img = img/255\n",
        "    labels = file[:len(file)-13].split(\"_\")\n",
        "#     print(file)\n",
        "#      = file\n",
        "    if(len(labels)==4):\n",
        "        filename.append(image_dir+file)\n",
        "        gender.append(labels[1])\n",
        "        race.append(labels[2])\n",
        "        age.append(str((min(80,int(labels[0]))-min(80,int(labels[0]))%10)/10))\n",
        "# train_x = np.array(train_x)\n",
        "# train_y = np.array(train_y)\n",
        "# train_x = train_x.reshape(23705,100,100,1)\n",
        "# train_y = train_y.reshape(23705,3)"
      ],
      "execution_count": null,
      "outputs": [
        {
          "output_type": "stream",
          "text": [
            "100%|██████████| 23708/23708 [00:00<00:00, 430814.98it/s]\n"
          ],
          "name": "stderr"
        }
      ]
    },
    {
      "cell_type": "code",
      "metadata": {
        "trusted": true,
        "colab": {
          "base_uri": "https://localhost:8080/"
        },
        "id": "4fcRMZSJh1Lb",
        "outputId": "2566009c-c3c0-46aa-daaf-1c70b595cdb8"
      },
      "source": [
        "data = pd.DataFrame(data=filename,columns=['filename'])\n",
        "data['gender'] = gender\n",
        "data['race'] = race\n",
        "data['age'] = age\n",
        "data['age']"
      ],
      "execution_count": null,
      "outputs": [
        {
          "output_type": "execute_result",
          "data": {
            "text/plain": [
              "0        2.0\n",
              "1        1.0\n",
              "2        2.0\n",
              "3        3.0\n",
              "4        3.0\n",
              "        ... \n",
              "23700    3.0\n",
              "23701    2.0\n",
              "23702    2.0\n",
              "23703    0.0\n",
              "23704    3.0\n",
              "Name: age, Length: 23705, dtype: object"
            ]
          },
          "metadata": {
            "tags": []
          },
          "execution_count": 5
        }
      ]
    },
    {
      "cell_type": "code",
      "metadata": {
        "trusted": true,
        "id": "xthvs4_Ih1Ll"
      },
      "source": [
        "from sklearn import preprocessing\n",
        "lb = preprocessing.LabelBinarizer()\n",
        "\n",
        "\n",
        "# lb.transform([1, 6])"
      ],
      "execution_count": null,
      "outputs": []
    },
    {
      "cell_type": "code",
      "metadata": {
        "trusted": true,
        "colab": {
          "base_uri": "https://localhost:8080/"
        },
        "id": "1nnFAzpsh1Lo",
        "outputId": "de25ce99-bb13-430a-94fb-860e2ad25ae9"
      },
      "source": [
        "from keras.preprocessing.image import ImageDataGenerator\n",
        "image_width, image_height = 200,200\n",
        "nb_train_samples = 16600\n",
        "nb_validation_samples = 7105\n",
        "epochs = 20\n",
        "batch_size = 64\n",
        "train_datagen = ImageDataGenerator(\n",
        "    width_shift_range = 0.2,\n",
        "    height_shift_range = 0.2,\n",
        "    rescale=1. / 255,\n",
        "    shear_range=0.2,\n",
        "    zoom_range=0.2,\n",
        "    horizontal_flip=True,\n",
        "    )\n",
        "\n",
        "test_datagen = ImageDataGenerator(rescale=1. / 255)\n",
        "train_generator = train_datagen.flow_from_dataframe(\n",
        "    data.iloc[:16600],\n",
        "    directory=image_dir,\n",
        "    x_col='filename',\n",
        "    y_col='gender',\n",
        "    shuffle=False,\n",
        "    target_size=(image_height, image_width),\n",
        "    batch_size=batch_size,\n",
        "    class_mode='binary')\n",
        "\n",
        "validation_generator = test_datagen.flow_from_dataframe(\n",
        "    data.iloc[16600:],\n",
        "    directory=image_dir,\n",
        "    x_col='filename',\n",
        "    y_col='gender',\n",
        "    shuffle=False,\n",
        "    target_size=(image_height, image_width),\n",
        "    batch_size=batch_size,\n",
        "    class_mode='binary')"
      ],
      "execution_count": null,
      "outputs": [
        {
          "output_type": "stream",
          "text": [
            "Found 16600 validated image filenames belonging to 2 classes.\n",
            "Found 7105 validated image filenames belonging to 2 classes.\n"
          ],
          "name": "stdout"
        }
      ]
    },
    {
      "cell_type": "code",
      "metadata": {
        "trusted": true,
        "colab": {
          "base_uri": "https://localhost:8080/"
        },
        "id": "Ha0o06-gh1Lp",
        "outputId": "cbc889e6-8d5e-4ed8-9aaf-cc1ee0bd57ee"
      },
      "source": [
        "from tensorflow import keras\n",
        "from keras.models import Sequential\n",
        "from keras import layers\n",
        "from keras.layers import Conv2D,MaxPool2D,Flatten,Dense,Dropout\n",
        "\n",
        "\n",
        "\n",
        "pretrained = keras.applications.VGG16(include_top=False,weights='imagenet',input_shape=(image_width,image_height,3))\n",
        "# pretrained.summary()\n",
        "for layer in pretrained.layers[-4:]:\n",
        "    layer.trainable = False\n",
        "# for layer in pretrained.layers:\n",
        "# #     layer.trainable = False\n",
        "#     print(layer,layer.trainable)\n",
        "model = Sequential()\n",
        "model.add(pretrained)\n",
        "model.add(Flatten())\n",
        "model.add(Dense(1024, activation='relu'))\n",
        "# model.add(Dropout(0.5))\n",
        "# model.add(Dense(4096, activation='relu'))\n",
        "# model.add(Dropout(0.5))\n",
        "model.add(Dense(1, activation='sigmoid'))\n",
        "# model.summary()\n",
        "model.compile(loss='binary_crossentropy',\n",
        "              optimizer=keras.optimizers.Adam(1e-4),\n",
        "              metrics=['accuracy'])\n",
        "history = model.fit(\n",
        "    train_generator,\n",
        "    steps_per_epoch=nb_train_samples/batch_size,\n",
        "    epochs=epochs,\n",
        "    validation_data=validation_generator,\n",
        "    validation_steps=nb_validation_samples/batch_size,\n",
        "#     batch_size=1,\n",
        "    verbose=1)"
      ],
      "execution_count": null,
      "outputs": [
        {
          "output_type": "stream",
          "text": [
            "Downloading data from https://storage.googleapis.com/tensorflow/keras-applications/vgg16/vgg16_weights_tf_dim_ordering_tf_kernels_notop.h5\n",
            "58892288/58889256 [==============================] - 0s 0us/step\n",
            "Epoch 1/20\n",
            "259/259 [==============================] - 249s 915ms/step - loss: 0.6703 - accuracy: 0.5887 - val_loss: 0.3757 - val_accuracy: 0.8315\n",
            "Epoch 2/20\n",
            "259/259 [==============================] - 233s 896ms/step - loss: 0.4173 - accuracy: 0.8105 - val_loss: 0.2749 - val_accuracy: 0.8805\n",
            "Epoch 3/20\n",
            "259/259 [==============================] - 230s 887ms/step - loss: 0.3122 - accuracy: 0.8650 - val_loss: 0.2542 - val_accuracy: 0.8915\n",
            "Epoch 4/20\n",
            "259/259 [==============================] - 229s 882ms/step - loss: 0.2637 - accuracy: 0.8870 - val_loss: 0.2470 - val_accuracy: 0.8937\n",
            "Epoch 5/20\n",
            "259/259 [==============================] - 229s 882ms/step - loss: 0.2574 - accuracy: 0.8950 - val_loss: 0.1961 - val_accuracy: 0.9172\n",
            "Epoch 6/20\n",
            "259/259 [==============================] - 229s 880ms/step - loss: 0.2222 - accuracy: 0.9090 - val_loss: 0.1829 - val_accuracy: 0.9237\n",
            "Epoch 7/20\n",
            "259/259 [==============================] - 229s 883ms/step - loss: 0.2141 - accuracy: 0.9132 - val_loss: 0.1821 - val_accuracy: 0.9229\n",
            "Epoch 8/20\n",
            "259/259 [==============================] - 229s 882ms/step - loss: 0.2143 - accuracy: 0.9131 - val_loss: 0.1783 - val_accuracy: 0.9233\n",
            "Epoch 9/20\n",
            "259/259 [==============================] - 228s 879ms/step - loss: 0.2095 - accuracy: 0.9154 - val_loss: 0.1755 - val_accuracy: 0.9303\n",
            "Epoch 10/20\n",
            "259/259 [==============================] - 228s 879ms/step - loss: 0.2011 - accuracy: 0.9201 - val_loss: 0.1856 - val_accuracy: 0.9223\n",
            "Epoch 11/20\n",
            "259/259 [==============================] - 228s 879ms/step - loss: 0.1896 - accuracy: 0.9268 - val_loss: 0.2265 - val_accuracy: 0.9091\n",
            "Epoch 12/20\n",
            "259/259 [==============================] - 228s 879ms/step - loss: 0.1865 - accuracy: 0.9244 - val_loss: 0.1726 - val_accuracy: 0.9300\n",
            "Epoch 13/20\n",
            "259/259 [==============================] - 228s 878ms/step - loss: 0.1725 - accuracy: 0.9310 - val_loss: 0.1699 - val_accuracy: 0.9323\n",
            "Epoch 14/20\n",
            "259/259 [==============================] - 228s 879ms/step - loss: 0.1586 - accuracy: 0.9381 - val_loss: 0.1887 - val_accuracy: 0.9257\n",
            "Epoch 15/20\n",
            "259/259 [==============================] - 228s 877ms/step - loss: 0.1635 - accuracy: 0.9364 - val_loss: 0.1641 - val_accuracy: 0.9315\n",
            "Epoch 16/20\n",
            "259/259 [==============================] - 229s 882ms/step - loss: 0.1453 - accuracy: 0.9463 - val_loss: 0.1643 - val_accuracy: 0.9329\n",
            "Epoch 17/20\n",
            "259/259 [==============================] - 228s 879ms/step - loss: 0.1442 - accuracy: 0.9461 - val_loss: 0.1753 - val_accuracy: 0.9296\n",
            "Epoch 18/20\n",
            "259/259 [==============================] - 228s 878ms/step - loss: 0.1384 - accuracy: 0.9486 - val_loss: 0.1667 - val_accuracy: 0.9312\n",
            "Epoch 19/20\n",
            "259/259 [==============================] - 228s 877ms/step - loss: 0.1302 - accuracy: 0.9507 - val_loss: 0.1833 - val_accuracy: 0.9268\n",
            "Epoch 20/20\n",
            "259/259 [==============================] - 229s 881ms/step - loss: 0.1326 - accuracy: 0.9499 - val_loss: 0.1736 - val_accuracy: 0.9315\n"
          ],
          "name": "stdout"
        }
      ]
    },
    {
      "cell_type": "code",
      "metadata": {
        "id": "wd9zX5bjn036",
        "colab": {
          "base_uri": "https://localhost:8080/",
          "height": 34
        },
        "outputId": "66090230-2616-4b31-fc5d-2da52b63a642"
      },
      "source": [
        "model.save(\"model.h5\")"
      ],
      "execution_count": null,
      "outputs": [
        {
          "output_type": "display_data",
          "data": {
            "application/javascript": [
              "\n",
              "    async function download(id, filename, size) {\n",
              "      if (!google.colab.kernel.accessAllowed) {\n",
              "        return;\n",
              "      }\n",
              "      const div = document.createElement('div');\n",
              "      const label = document.createElement('label');\n",
              "      label.textContent = `Downloading \"${filename}\": `;\n",
              "      div.appendChild(label);\n",
              "      const progress = document.createElement('progress');\n",
              "      progress.max = size;\n",
              "      div.appendChild(progress);\n",
              "      document.body.appendChild(div);\n",
              "\n",
              "      const buffers = [];\n",
              "      let downloaded = 0;\n",
              "\n",
              "      const channel = await google.colab.kernel.comms.open(id);\n",
              "      // Send a message to notify the kernel that we're ready.\n",
              "      channel.send({})\n",
              "\n",
              "      for await (const message of channel.messages) {\n",
              "        // Send a message to notify the kernel that we're ready.\n",
              "        channel.send({})\n",
              "        if (message.buffers) {\n",
              "          for (const buffer of message.buffers) {\n",
              "            buffers.push(buffer);\n",
              "            downloaded += buffer.byteLength;\n",
              "            progress.value = downloaded;\n",
              "          }\n",
              "        }\n",
              "      }\n",
              "      const blob = new Blob(buffers, {type: 'application/binary'});\n",
              "      const a = document.createElement('a');\n",
              "      a.href = window.URL.createObjectURL(blob);\n",
              "      a.download = filename;\n",
              "      div.appendChild(a);\n",
              "      a.click();\n",
              "      div.remove();\n",
              "    }\n",
              "  "
            ],
            "text/plain": [
              "<IPython.core.display.Javascript object>"
            ]
          },
          "metadata": {
            "tags": []
          }
        },
        {
          "output_type": "display_data",
          "data": {
            "application/javascript": [
              "download(\"download_222d7416-44aa-42af-be8e-e52f7650fda7\", \"model.h5\", 346570304)"
            ],
            "text/plain": [
              "<IPython.core.display.Javascript object>"
            ]
          },
          "metadata": {
            "tags": []
          }
        }
      ]
    },
    {
      "cell_type": "code",
      "metadata": {
        "trusted": true,
        "id": "Q4g8Fe1Th1Lo",
        "colab": {
          "base_uri": "https://localhost:8080/",
          "height": 295
        },
        "outputId": "bd4d8b6e-7632-44c0-e50a-ed3522f2839a"
      },
      "source": [
        "loss_train = history.history['loss']\n",
        "# loss_train = history.history['train_loss']\n",
        "loss_val = history.history['val_loss']\n",
        "epochs = range(1,21)\n",
        "plt.plot(epochs, loss_train, 'g', label='Training loss')\n",
        "plt.plot(epochs, loss_val, 'b', label='validation loss')\n",
        "plt.title('Training and Validation loss')\n",
        "plt.xlabel('Epochs')\n",
        "plt.ylabel('Loss')\n",
        "plt.legend()\n",
        "plt.show()"
      ],
      "execution_count": null,
      "outputs": [
        {
          "output_type": "display_data",
          "data": {
            "image/png": "[encoded data removed]",
            "text/plain": [
              "<Figure size 432x288 with 1 Axes>"
            ]
          },
          "metadata": {
            "tags": [],
            "needs_background": "light"
          }
        }
      ]
    },
    {
      "cell_type": "code",
      "metadata": {
        "trusted": true,
        "colab": {
          "base_uri": "https://localhost:8080/",
          "height": 295
        },
        "id": "dqYpl8qSh1Lo",
        "outputId": "2757a43f-1f32-4df5-c325-9460846a04ab"
      },
      "source": [
        "loss_train = history.history['accuracy']\n",
        "loss_val = history.history['val_accuracy']\n",
        "epochs = range(1,21)\n",
        "plt.plot(epochs, loss_train, 'g', label='Training accuracy')\n",
        "plt.plot(epochs, loss_val, 'b', label='validation accuracy')\n",
        "plt.title('Training and Validation accuracy')\n",
        "plt.xlabel('Epochs')\n",
        "plt.ylabel('Accuracy')\n",
        "plt.legend()\n",
        "plt.show()"
      ],
      "execution_count": null,
      "outputs": [
        {
          "output_type": "display_data",
          "data": {
            "image/png": "[encoded data removed]",
            "text/plain": [
              "<Figure size 432x288 with 1 Axes>"
            ]
          },
          "metadata": {
            "tags": [],
            "needs_background": "light"
          }
        }
      ]
    },
    {
      "cell_type": "code",
      "metadata": {
        "id": "tUeKWMmwmB6U"
      },
      "source": [
        ""
      ],
      "execution_count": null,
      "outputs": []
    }
  ]
}