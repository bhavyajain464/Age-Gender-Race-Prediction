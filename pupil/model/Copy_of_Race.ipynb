{
  "nbformat": 4,
  "nbformat_minor": 0,
  "metadata": {
    "colab": {
      "name": "Copy of Race.ipynb",
      "provenance": [],
      "collapsed_sections": []
    },
    "kernelspec": {
      "display_name": "Python 3",
      "language": "python",
      "name": "python3"
    },
    "language_info": {
      "codemirror_mode": {
        "name": "ipython",
        "version": 3
      },
      "file_extension": ".py",
      "mimetype": "text/x-python",
      "name": "python",
      "nbconvert_exporter": "python",
      "pygments_lexer": "ipython3",
      "version": "3.7.6"
    },
    "accelerator": "GPU"
  },
  "cells": [
    {
      "cell_type": "code",
      "metadata": {
        "colab": {
          "base_uri": "https://localhost:8080/"
        },
        "id": "Gt73AqRAh1LY",
        "outputId": "7babeb67-99e4-40ad-d971-0eaaba9e8820"
      },
      "source": [
        "import matplotlib.pyplot as plt\n",
        "import cv2\n",
        "from tqdm import tqdm\n",
        "import numpy as np\n",
        "import pandas as pd \n",
        "import os\n",
        "image_dir = \"/content/UTKFace/\"\n",
        "train_x = []\n",
        "train_y = []\n",
        "\n",
        "filename = []\n",
        "gender=[]\n",
        "race=[]\n",
        "age=[]\n",
        "\n",
        "for file in tqdm(os.listdir(image_dir),position=0,leave=True):\n",
        "#     print(file)\n",
        "#     img = cv2.imread(image_dir+file,0)\n",
        "#     img = cv2.resize(img,(100,100))\n",
        "#     img = img/255\n",
        "    labels = file[:len(file)-13].split(\"_\")\n",
        "#     print(file)\n",
        "#      = file\n",
        "    if(len(labels)==4):\n",
        "        filename.append(image_dir+file)\n",
        "        gender.append(labels[1])\n",
        "        race.append(labels[2])\n",
        "        age.append(str((min(80,int(labels[0]))-min(80,int(labels[0]))%10)/10))\n",
        "# train_x = np.array(train_x)\n",
        "# train_y = np.array(train_y)\n",
        "# train_x = train_x.reshape(23705,100,100,1)\n",
        "# train_y = train_y.reshape(23705,3)"
      ],
      "execution_count": 16,
      "outputs": [
        {
          "output_type": "stream",
          "text": [
            "100%|██████████| 23708/23708 [00:00<00:00, 388746.21it/s]\n"
          ],
          "name": "stderr"
        }
      ]
    },
    {
      "cell_type": "code",
      "metadata": {
        "colab": {
          "base_uri": "https://localhost:8080/"
        },
        "id": "4fcRMZSJh1Lb",
        "outputId": "9248d233-cbd4-462f-ee39-b2ddd58b3d89"
      },
      "source": [
        "data = pd.DataFrame(data=filename,columns=['filename'])\n",
        "data['gender'] = gender\n",
        "data['race'] = race\n",
        "data['age'] = age\n",
        "data['age']"
      ],
      "execution_count": 17,
      "outputs": [
        {
          "output_type": "execute_result",
          "data": {
            "text/plain": [
              "0        8.0\n",
              "1        2.0\n",
              "2        0.0\n",
              "3        2.0\n",
              "4        4.0\n",
              "        ... \n",
              "23700    1.0\n",
              "23701    2.0\n",
              "23702    2.0\n",
              "23703    2.0\n",
              "23704    2.0\n",
              "Name: age, Length: 23705, dtype: object"
            ]
          },
          "metadata": {
            "tags": []
          },
          "execution_count": 17
        }
      ]
    },
    {
      "cell_type": "code",
      "metadata": {
        "colab": {
          "base_uri": "https://localhost:8080/",
          "height": 282
        },
        "id": "EX_j2W7Ge1vl",
        "outputId": "7beffb13-6402-4196-ce3b-d5b28a1e67e8"
      },
      "source": [
        "data['race'].hist()"
      ],
      "execution_count": 20,
      "outputs": [
        {
          "output_type": "execute_result",
          "data": {
            "text/plain": [
              "<matplotlib.axes._subplots.AxesSubplot at 0x7f1b6862a3d0>"
            ]
          },
          "metadata": {
            "tags": []
          },
          "execution_count": 20
        },
        {
          "output_type": "display_data",
          "data": {
            "image/png": "[encoded data removed]",
            "text/plain": [
              "<Figure size 432x288 with 1 Axes>"
            ]
          },
          "metadata": {
            "tags": [],
            "needs_background": "light"
          }
        }
      ]
    },
    {
      "cell_type": "code",
      "metadata": {
        "colab": {
          "base_uri": "https://localhost:8080/"
        },
        "id": "1nnFAzpsh1Lo",
        "outputId": "9ac1482e-b430-4061-9324-85effebaff63"
      },
      "source": [
        "from keras.preprocessing.image import ImageDataGenerator\n",
        "image_width, image_height = 250, 250\n",
        "nb_train_samples = 16000\n",
        "nb_validation_samples = 7705\n",
        "epochs = 30\n",
        "batch_size = 64\n",
        "train_datagen = ImageDataGenerator(\n",
        "    width_shift_range = 0.2,\n",
        "    height_shift_range = 0.2,\n",
        "    rescale=1. / 255,\n",
        "    shear_range=0.2,\n",
        "    zoom_range=0.2,\n",
        "    horizontal_flip=True,\n",
        "    )\n",
        "\n",
        "test_datagen = ImageDataGenerator(rescale=1. / 255)\n",
        "train_generator = train_datagen.flow_from_dataframe(\n",
        "    data.iloc[:nb_train_samples],\n",
        "    directory=image_dir,\n",
        "    x_col='filename',\n",
        "    y_col='race',\n",
        "    shuffle=False,\n",
        "    target_size=(image_height, image_width),\n",
        "    batch_size=batch_size,\n",
        "    class_mode='sparse')\n",
        "\n",
        "validation_generator = test_datagen.flow_from_dataframe(\n",
        "    data.iloc[nb_train_samples:],\n",
        "    directory=image_dir,\n",
        "    x_col='filename',\n",
        "    y_col='race',\n",
        "    shuffle=False,\n",
        "    target_size=(image_height, image_width),\n",
        "    batch_size=batch_size,\n",
        "    class_mode='sparse')"
      ],
      "execution_count": 18,
      "outputs": [
        {
          "output_type": "stream",
          "text": [
            "Found 16000 validated image filenames belonging to 5 classes.\n",
            "Found 7705 validated image filenames belonging to 5 classes.\n"
          ],
          "name": "stdout"
        }
      ]
    },
    {
      "cell_type": "code",
      "metadata": {
        "id": "g6UviTLBwqYW",
        "colab": {
          "base_uri": "https://localhost:8080/"
        },
        "outputId": "0264dfe3-017a-49b5-e63c-b5f207b55aa0"
      },
      "source": [
        "from tensorflow import keras\n",
        "from keras.models import Sequential\n",
        "from keras import layers,Input\n",
        "from keras.layers import Conv2D,MaxPool2D,Flatten,Dense,Dropout,Dot\n",
        "\n",
        "pretrained = keras.applications.VGG19(include_top=False,weights='imagenet',input_shape=(image_width,image_height,3))\n",
        "# pretrained.summary()\n",
        "# for layer in pretrained.layers[-5:]:\n",
        "#     layer.trainable = False\n",
        "# for layer in pretrained.layers:\n",
        "#     # layer.trainable = False\n",
        "#     print(layer,layer.trainable)\n",
        "model = Sequential()\n",
        "model.add(pretrained)\n",
        "model.add(Flatten())\n",
        "model.add(Dense(1024, activation='relu'))\n",
        "# model.add(Dropout(0.5))\n",
        "# model.add(Dense(4096, activation='relu'))\n",
        "# model.add(Dropout(0.5))\n",
        "model.add(Dense(5, activation='softmax'))\n",
        "\n",
        "model.summary()\n",
        "model.compile(loss='sparse_categorical_crossentropy',\n",
        "              optimizer=keras.optimizers.SGD(1e-3),\n",
        "              metrics=['accuracy'])\n",
        "history = model.fit(\n",
        "    train_generator,\n",
        "    steps_per_epoch=nb_train_samples/batch_size,\n",
        "    epochs=epochs,\n",
        "    validation_data=validation_generator,\n",
        "    validation_steps=nb_validation_samples/batch_size,\n",
        "#     batch_size=1,\n",
        "    verbose=1)"
      ],
      "execution_count": 19,
      "outputs": [
        {
          "output_type": "stream",
          "text": [
            "Downloading data from https://storage.googleapis.com/tensorflow/keras-applications/vgg19/vgg19_weights_tf_dim_ordering_tf_kernels_notop.h5\n",
            "80142336/80134624 [==============================] - 1s 0us/step\n",
            "Model: \"sequential\"\n",
            "_________________________________________________________________\n",
            "Layer (type)                 Output Shape              Param #   \n",
            "=================================================================\n",
            "vgg19 (Functional)           (None, 7, 7, 512)         20024384  \n",
            "_________________________________________________________________\n",
            "flatten (Flatten)            (None, 25088)             0         \n",
            "_________________________________________________________________\n",
            "dense (Dense)                (None, 1024)              25691136  \n",
            "_________________________________________________________________\n",
            "dense_1 (Dense)              (None, 5)                 5125      \n",
            "=================================================================\n",
            "Total params: 45,720,645\n",
            "Trainable params: 45,720,645\n",
            "Non-trainable params: 0\n",
            "_________________________________________________________________\n",
            "Epoch 1/30\n",
            "250/250 [==============================] - 457s 2s/step - loss: 1.4636 - accuracy: 0.4047 - val_loss: 1.2782 - val_accuracy: 0.4951\n",
            "Epoch 2/30\n",
            "250/250 [==============================] - 405s 2s/step - loss: 1.1886 - accuracy: 0.5429 - val_loss: 0.9361 - val_accuracy: 0.6419\n",
            "Epoch 3/30\n",
            "250/250 [==============================] - 407s 2s/step - loss: 1.0309 - accuracy: 0.6163 - val_loss: 0.9280 - val_accuracy: 0.6575\n",
            "Epoch 4/30\n",
            "250/250 [==============================] - 407s 2s/step - loss: 0.9022 - accuracy: 0.6668 - val_loss: 0.7511 - val_accuracy: 0.7303\n",
            "Epoch 5/30\n",
            "250/250 [==============================] - 406s 2s/step - loss: 0.8308 - accuracy: 0.7040 - val_loss: 0.7610 - val_accuracy: 0.7351\n",
            "Epoch 6/30\n",
            "250/250 [==============================] - 407s 2s/step - loss: 0.7793 - accuracy: 0.7199 - val_loss: 0.6888 - val_accuracy: 0.7648\n",
            "Epoch 7/30\n",
            "250/250 [==============================] - 407s 2s/step - loss: 0.7376 - accuracy: 0.7389 - val_loss: 0.6475 - val_accuracy: 0.7682\n",
            "Epoch 8/30\n",
            "250/250 [==============================] - 407s 2s/step - loss: 0.7170 - accuracy: 0.7482 - val_loss: 0.6649 - val_accuracy: 0.7640\n",
            "Epoch 9/30\n",
            "250/250 [==============================] - 408s 2s/step - loss: 0.6877 - accuracy: 0.7534 - val_loss: 0.6248 - val_accuracy: 0.7817\n",
            "Epoch 10/30\n",
            "250/250 [==============================] - 409s 2s/step - loss: 0.6325 - accuracy: 0.7793 - val_loss: 0.7690 - val_accuracy: 0.7304\n",
            "Epoch 11/30\n",
            "250/250 [==============================] - 408s 2s/step - loss: 0.6391 - accuracy: 0.7745 - val_loss: 0.6099 - val_accuracy: 0.7842\n",
            "Epoch 12/30\n",
            "250/250 [==============================] - 409s 2s/step - loss: 0.6156 - accuracy: 0.7852 - val_loss: 0.5704 - val_accuracy: 0.8023\n",
            "Epoch 13/30\n",
            "250/250 [==============================] - 408s 2s/step - loss: 0.5899 - accuracy: 0.7956 - val_loss: 0.5566 - val_accuracy: 0.8091\n",
            "Epoch 14/30\n",
            "250/250 [==============================] - 409s 2s/step - loss: 0.5918 - accuracy: 0.7937 - val_loss: 0.5496 - val_accuracy: 0.8080\n",
            "Epoch 15/30\n",
            "250/250 [==============================] - 409s 2s/step - loss: 0.5589 - accuracy: 0.8079 - val_loss: 0.5380 - val_accuracy: 0.8184\n",
            "Epoch 16/30\n",
            "250/250 [==============================] - 409s 2s/step - loss: 0.5696 - accuracy: 0.8008 - val_loss: 0.6751 - val_accuracy: 0.7750\n",
            "Epoch 17/30\n",
            "250/250 [==============================] - 409s 2s/step - loss: 0.5652 - accuracy: 0.8046 - val_loss: 0.5287 - val_accuracy: 0.8200\n",
            "Epoch 18/30\n",
            "250/250 [==============================] - 409s 2s/step - loss: 0.5410 - accuracy: 0.8111 - val_loss: 0.5372 - val_accuracy: 0.8167\n",
            "Epoch 19/30\n",
            "250/250 [==============================] - 409s 2s/step - loss: 0.5316 - accuracy: 0.8132 - val_loss: 0.5073 - val_accuracy: 0.8269\n",
            "Epoch 20/30\n",
            "250/250 [==============================] - 409s 2s/step - loss: 0.5229 - accuracy: 0.8198 - val_loss: 0.5143 - val_accuracy: 0.8256\n",
            "Epoch 21/30\n",
            "250/250 [==============================] - 409s 2s/step - loss: 0.5110 - accuracy: 0.8219 - val_loss: 0.5093 - val_accuracy: 0.8267\n",
            "Epoch 22/30\n",
            "250/250 [==============================] - 410s 2s/step - loss: 0.5148 - accuracy: 0.8221 - val_loss: 0.5710 - val_accuracy: 0.8125\n",
            "Epoch 23/30\n",
            "250/250 [==============================] - 411s 2s/step - loss: 0.5026 - accuracy: 0.8248 - val_loss: 0.5847 - val_accuracy: 0.8006\n",
            "Epoch 24/30\n",
            "250/250 [==============================] - 412s 2s/step - loss: 0.4880 - accuracy: 0.8294 - val_loss: 0.5000 - val_accuracy: 0.8321\n",
            "Epoch 25/30\n",
            "250/250 [==============================] - 409s 2s/step - loss: 0.4808 - accuracy: 0.8315 - val_loss: 0.5059 - val_accuracy: 0.8297\n",
            "Epoch 26/30\n",
            "250/250 [==============================] - 408s 2s/step - loss: 0.4736 - accuracy: 0.8346 - val_loss: 0.5187 - val_accuracy: 0.8287\n",
            "Epoch 27/30\n",
            "250/250 [==============================] - 409s 2s/step - loss: 0.4681 - accuracy: 0.8386 - val_loss: 0.5224 - val_accuracy: 0.8223\n",
            "Epoch 28/30\n",
            "250/250 [==============================] - 410s 2s/step - loss: 0.4477 - accuracy: 0.8488 - val_loss: 0.5536 - val_accuracy: 0.8140\n",
            "Epoch 29/30\n",
            "250/250 [==============================] - 409s 2s/step - loss: 0.4399 - accuracy: 0.8512 - val_loss: 0.5231 - val_accuracy: 0.8243\n",
            "Epoch 30/30\n",
            "250/250 [==============================] - 410s 2s/step - loss: 0.4436 - accuracy: 0.8494 - val_loss: 0.4961 - val_accuracy: 0.8337\n"
          ],
          "name": "stdout"
        }
      ]
    },
    {
      "cell_type": "code",
      "metadata": {
        "colab": {
          "base_uri": "https://localhost:8080/",
          "height": 295
        },
        "id": "Q4g8Fe1Th1Lo",
        "outputId": "2ff83ef4-1529-49e7-9356-3de5d8993a07"
      },
      "source": [
        "loss_train = history.history['loss']\n",
        "# loss_train = history.history['train_loss']\n",
        "loss_val = history.history['val_loss']\n",
        "epochs = range(1,31)\n",
        "plt.plot(epochs, loss_train, 'g', label='Training loss')\n",
        "plt.plot(epochs, loss_val, 'b', label='validation loss')\n",
        "plt.title('Training and Validation loss')\n",
        "plt.xlabel('Epochs')\n",
        "plt.ylabel('Loss')\n",
        "plt.legend()\n",
        "plt.show()"
      ],
      "execution_count": 23,
      "outputs": [
        {
          "output_type": "display_data",
          "data": {
            "image/png": "[encoded data removed]",
            "text/plain": [
              "<Figure size 432x288 with 1 Axes>"
            ]
          },
          "metadata": {
            "tags": [],
            "needs_background": "light"
          }
        }
      ]
    },
    {
      "cell_type": "code",
      "metadata": {
        "colab": {
          "base_uri": "https://localhost:8080/",
          "height": 295
        },
        "id": "dqYpl8qSh1Lo",
        "outputId": "c7495f5e-aae0-48a2-e9c8-019852173424"
      },
      "source": [
        "loss_train = history.history['accuracy']\n",
        "loss_val = history.history['val_accuracy']\n",
        "epochs = range(1,31)\n",
        "plt.plot(epochs, loss_train, 'g', label='Training accuracy')\n",
        "plt.plot(epochs, loss_val, 'b', label='validation accuracy')\n",
        "plt.title('Training and Validation accuracy')\n",
        "plt.xlabel('Epochs')\n",
        "plt.ylabel('Accuracy')\n",
        "plt.legend()\n",
        "plt.show()"
      ],
      "execution_count": 24,
      "outputs": [
        {
          "output_type": "display_data",
          "data": {
            "image/png": "[encoded data removed]",
            "text/plain": [
              "<Figure size 432x288 with 1 Axes>"
            ]
          },
          "metadata": {
            "tags": [],
            "needs_background": "light"
          }
        }
      ]
    }
  ]
}